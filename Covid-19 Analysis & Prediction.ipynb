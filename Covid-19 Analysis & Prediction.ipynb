{
 "cells": [
  {
   "cell_type": "markdown",
   "metadata": {},
   "source": [
    "# COVID-19 Analysis & Prediction\n",
    "## Data cleaning and Data transformation Process"
   ]
  },
  {
   "cell_type": "markdown",
   "metadata": {},
   "source": [
    "### Importing all the necessary libraries"
   ]
  },
  {
   "cell_type": "code",
   "metadata": {},
   "source": [
    "import os \n",
    "import numpy as np \n",
    "import pandas as pd\n",
    "from matplotlib import pyplot as plt\n",
    "import seaborn as sns\n",
    "from math import sqrt\n",
    "from datetime import datetime\n",
    "\n",
    "%matplotlib inline"
   ],
   "outputs": [],
   "execution_count": null
  },
  {
   "cell_type": "markdown",
   "metadata": {},
   "source": [
    "### Importing dataset\n"
   ]
  },
  {
   "cell_type": "code",
   "metadata": {},
   "source": [
    "\n",
    "raw_data_confirmed = pd.read_csv('time_series_covid19_confirmed_global.csv')\n",
    "raw_data_deaths = pd.read_csv('time_series_covid19_deaths_global.csv')\n",
    "raw_data_Recovered = pd.read_csv('time_series_covid19_recovered_global.csv')\n",
    "\n",
    "print(\"The Shape of confirmed is: \", raw_data_confirmed.shape)\n",
    "print(\"The Shape of deaths is: \", raw_data_deaths.shape)\n",
    "print(\"The Shape of recovered is: \", raw_data_Recovered.shape)\n",
    "\n",
    "raw_data_confirmed.head()"
   ],
   "outputs": [],
   "execution_count": null
  },
  {
   "cell_type": "markdown",
   "metadata": {},
   "source": [
    "### Un-Pivoting the data"
   ]
  },
  {
   "cell_type": "code",
   "metadata": {},
   "source": [
    "raw_data_confirmed2 = pd.melt(raw_data_confirmed, id_vars=['Province/State', 'Country/Region', 'Lat', 'Long'], \n",
    "                              var_name='Date')\n",
    "raw_data_deaths2 = pd.melt(raw_data_deaths, id_vars=['Province/State', 'Country/Region', 'Lat', 'Long'], \n",
    "                           var_name='Date')\n",
    "raw_data_Recovered2 = pd.melt(raw_data_Recovered, id_vars=['Province/State', 'Country/Region', 'Lat', 'Long'], \n",
    "                              var_name='Date')\n",
    "\n",
    "\n",
    "print(\"The Shape of Confirmed is: \", raw_data_confirmed2.shape)\n",
    "print(\"The Shape of deaths is: \", raw_data_deaths2.shape)\n",
    "print(\"The Shape of recovered is: \", raw_data_Recovered2.shape)\n",
    "\n",
    "\n",
    "raw_data_confirmed2"
   ],
   "outputs": [],
   "execution_count": null
  },
  {
   "cell_type": "code",
   "metadata": {},
   "source": [
    "raw_data_confirmed2.head()"
   ],
   "outputs": [],
   "execution_count": null
  },
  {
   "cell_type": "markdown",
   "metadata": {},
   "source": [
    "### Converting the new column to dates\n"
   ]
  },
  {
   "cell_type": "code",
   "metadata": {},
   "source": [
    "raw_data_confirmed2['Date'] = pd.to_datetime(raw_data_confirmed2['Date'])\n",
    "raw_data_deaths2['Date'] = pd.to_datetime(raw_data_deaths2['Date'])\n",
    "raw_data_Recovered2['Date'] = pd.to_datetime(raw_data_Recovered2['Date'])"
   ],
   "outputs": [],
   "execution_count": null
  },
  {
   "cell_type": "markdown",
   "metadata": {},
   "source": [
    "### Renaming the Values\n"
   ]
  },
  {
   "cell_type": "code",
   "metadata": {},
   "source": [
    "raw_data_confirmed2.columns = raw_data_confirmed2.columns.str.replace('value', 'Confirmed')\n",
    "raw_data_deaths2.columns = raw_data_deaths2.columns.str.replace('value', 'Deaths')\n",
    "raw_data_Recovered2.columns = raw_data_Recovered2.columns.str.replace('value', 'Recovered')"
   ],
   "outputs": [],
   "execution_count": null
  },
  {
   "cell_type": "code",
   "metadata": {},
   "source": [
    "raw_data_confirmed2.head()"
   ],
   "outputs": [],
   "execution_count": null
  },
  {
   "cell_type": "markdown",
   "metadata": {},
   "source": [
    "### Investigating the NULL values"
   ]
  },
  {
   "cell_type": "code",
   "metadata": {},
   "source": [
    "raw_data_Recovered2.isnull().sum()"
   ],
   "outputs": [],
   "execution_count": null
  },
  {
   "cell_type": "markdown",
   "metadata": {},
   "source": [
    "### Dealing with NULL values"
   ]
  },
  {
   "cell_type": "code",
   "metadata": {},
   "source": [
    "raw_data_confirmed2['Province/State'].fillna(raw_data_confirmed2['Country/Region'], inplace=True)\n",
    "raw_data_deaths2['Province/State'].fillna(raw_data_deaths2['Country/Region'], inplace=True)\n",
    "raw_data_Recovered2['Province/State'].fillna(raw_data_Recovered2['Country/Region'], inplace=True)"
   ],
   "outputs": [],
   "execution_count": null
  },
  {
   "cell_type": "code",
   "metadata": {},
   "source": [
    "raw_data_Recovered2.isnull().sum()"
   ],
   "outputs": [],
   "execution_count": null
  },
  {
   "cell_type": "markdown",
   "metadata": {},
   "source": [
    "### printing shapes before the join"
   ]
  },
  {
   "cell_type": "code",
   "metadata": {},
   "source": [
    "print(\"The Shape of confirmed is: \", raw_data_confirmed2.shape)\n",
    "print(\"The Shape of deaths is: \", raw_data_deaths2.shape)\n",
    "print(\"The Shape of recovered is: \", raw_data_Recovered2.shape)"
   ],
   "outputs": [],
   "execution_count": null
  },
  {
   "cell_type": "code",
   "metadata": {},
   "source": [
    "raw_data_confirmed2"
   ],
   "outputs": [],
   "execution_count": null
  },
  {
   "cell_type": "code",
   "metadata": {},
   "source": [
    "full_join = raw_data_confirmed2.merge(raw_data_deaths2[['Province/State','Country/Region','Date','Deaths']], \n",
    "                                      how = 'left', \n",
    "                                      left_on = ['Province/State','Country/Region','Date'], \n",
    "                                      right_on = ['Province/State', 'Country/Region','Date'])\n",
    "full_join.head()"
   ],
   "outputs": [],
   "execution_count": null
  },
  {
   "cell_type": "code",
   "metadata": {},
   "source": [
    "full_join = full_join.merge(raw_data_Recovered2[['Province/State','Country/Region','Date','Recovered']], \n",
    "                                      how = 'left', \n",
    "                                      left_on = ['Province/State','Country/Region','Date'], \n",
    "                                      right_on = ['Province/State', 'Country/Region','Date'])\n",
    "full_join.head()"
   ],
   "outputs": [],
   "execution_count": null
  },
  {
   "cell_type": "markdown",
   "metadata": {},
   "source": [
    "### Adding Month and Year as a new Column"
   ]
  },
  {
   "cell_type": "code",
   "metadata": {},
   "source": [
    "full_join['Month-Year'] = full_join['Date'].dt.strftime('%b-%Y')"
   ],
   "outputs": [],
   "execution_count": null
  },
  {
   "cell_type": "code",
   "metadata": {},
   "source": [
    "full_join.head()"
   ],
   "outputs": [],
   "execution_count": null
  },
  {
   "cell_type": "code",
   "metadata": {},
   "source": [
    "full_join2 = full_join.copy()\n",
    "\n",
    "#creating a new date columns - 1\n",
    "full_join2['Date - 1'] = full_join2['Date'] + pd.Timedelta(days=1)\n",
    "full_join2.rename(columns={'Confirmed': 'Confirmed - 1', 'Deaths': 'Deaths - 1', 'Recovered': 'Recovered - 1',\n",
    "                          'Date': 'Date Minus 1'}, inplace=True)\n"
   ],
   "outputs": [],
   "execution_count": null
  },
  {
   "cell_type": "code",
   "metadata": {},
   "source": [
    "full_join2.head()"
   ],
   "outputs": [],
   "execution_count": null
  },
  {
   "cell_type": "code",
   "metadata": {},
   "source": [
    "full_join3 = full_join.merge(full_join2[['Province/State', 'Country/Region','Confirmed - 1', 'Deaths - 1', \n",
    "                            'Recovered - 1', 'Date - 1', 'Date Minus 1']], how = 'left',\n",
    "                             left_on = ['Province/State','Country/Region','Date'], \n",
    "                             right_on = ['Province/State', 'Country/Region','Date - 1'])\n",
    "full_join3.head()"
   ],
   "outputs": [],
   "execution_count": null
  },
  {
   "cell_type": "code",
   "metadata": {},
   "source": [
    "full_join3['Confirmed Daily'] = full_join3['Confirmed'] - full_join3['Confirmed - 1']\n",
    "full_join3['Deaths Daily'] = full_join3['Deaths'] - full_join3['Deaths - 1']\n",
    "full_join3['Recovered Daily'] = full_join3['Recovered'] - full_join3['Recovered - 1']\n",
    "\n",
    "print(full_join3.shape)"
   ],
   "outputs": [],
   "execution_count": null
  },
  {
   "cell_type": "code",
   "metadata": {},
   "source": [
    "full_join3.head()"
   ],
   "outputs": [],
   "execution_count": null
  },
  {
   "cell_type": "code",
   "metadata": {},
   "source": [],
   "outputs": [],
   "execution_count": null
  },
  {
   "cell_type": "code",
   "metadata": {},
   "source": [
    "#############################################################################################\n",
    "######################## Braking the numbers by Day #########################################\n",
    "#############################################################################################\n",
    "\n",
    "\n",
    "#creating a new df    \n",
    "full_join2 = full_join.copy()\n",
    "\n",
    "#creating a new date columns - 1\n",
    "full_join2['Date - 1'] = full_join2['Date'] + pd.Timedelta(days=1)\n",
    "full_join2.rename(columns={'Confirmed': 'Confirmed - 1', 'Deaths': 'Deaths - 1', 'Recovered': 'Recovered - 1',\n",
    "                          'Date': 'Date Minus 1'}, inplace=True)\n",
    "\n",
    "#Joing on the 2 DFs\n",
    "full_join3 = full_join.merge(full_join2[['Province/State', 'Country/Region','Confirmed - 1', 'Deaths - 1', \n",
    "                            'Recovered - 1', 'Date - 1', 'Date Minus 1']], how = 'left',\n",
    "                             left_on = ['Province/State','Country/Region','Date'], \n",
    "                             right_on = ['Province/State', 'Country/Region','Date - 1'])\n",
    "\n",
    "#minus_onedf.rename(columns={'Confirmed': 'Confirmed - 1', 'Deaths': 'Deaths - 1', 'Recovered': 'Recovered - 1'}, inplace=True)\n",
    "\n",
    "full_join3.head()\n",
    "\n",
    "# Additional Calculations\n",
    "full_join3['Confirmed Daily'] = full_join3['Confirmed'] - full_join3['Confirmed - 1']\n",
    "full_join3['Deaths Daily'] = full_join3['Deaths'] - full_join3['Deaths - 1']\n",
    "full_join3['Recovered Daily'] = full_join3['Recovered'] - full_join3['Recovered - 1']\n",
    "\n",
    "print(full_join3.shape)"
   ],
   "outputs": [],
   "execution_count": null
  },
  {
   "cell_type": "code",
   "metadata": {},
   "source": [
    "full_join3.head()"
   ],
   "outputs": [],
   "execution_count": null
  },
  {
   "cell_type": "code",
   "metadata": {},
   "source": [
    "# Additing manually the numbers for first day\n",
    "\n",
    "full_join3['Confirmed Daily'].loc[full_join3['Date'] == '2020-01-22'] = full_join3['Confirmed']\n",
    "full_join3['Deaths Daily'].loc[full_join3['Date'] == '2020-01-22'] = full_join3['Deaths']\n",
    "full_join3['Recovered Daily'].loc[full_join3['Date'] == '2020-01-22'] = full_join3['Recovered']\n",
    "\n",
    "# deleting columns\n",
    "del full_join3['Confirmed - 1']\n",
    "del full_join3['Deaths - 1']\n",
    "del full_join3['Recovered - 1']\n",
    "del full_join3['Date - 1']\n",
    "del full_join3['Date Minus 1']"
   ],
   "outputs": [],
   "execution_count": null
  },
  {
   "cell_type": "markdown",
   "metadata": {},
   "source": [
    "### Removing Negative values"
   ]
  },
  {
   "cell_type": "code",
   "metadata": {},
   "source": [
    "full_join3[full_join3[\"Deaths Daily\"]<0]"
   ],
   "outputs": [],
   "execution_count": null
  },
  {
   "cell_type": "code",
   "metadata": {},
   "source": [
    "full_join3['Deaths Daily']=np.where(full_join3['Deaths Daily']<0 ,0,full_join3['Deaths Daily'])"
   ],
   "outputs": [],
   "execution_count": null
  },
  {
   "cell_type": "code",
   "metadata": {},
   "source": [
    "full_join3['Confirmed Daily']=np.where(full_join3['Confirmed Daily']<0 ,0,full_join3['Confirmed Daily'])"
   ],
   "outputs": [],
   "execution_count": null
  },
  {
   "cell_type": "code",
   "metadata": {},
   "source": [
    "full_join3['Recovered Daily']=np.where(full_join3['Recovered Daily']<0 ,0,full_join3['Recovered Daily'])"
   ],
   "outputs": [],
   "execution_count": null
  },
  {
   "cell_type": "markdown",
   "metadata": {},
   "source": [
    "### Exporting output file"
   ]
  },
  {
   "cell_type": "code",
   "metadata": {},
   "source": [
    "path = \"D:Covid\\Data\"\n",
    "\n",
    "# Changing my CWD\n",
    "os.chdir(path)\n",
    "\n",
    "full_join3.to_csv('CoronaVirus Data Raw.csv')"
   ],
   "outputs": [],
   "execution_count": null
  }
 ],
 "metadata": {
  "kernelspec": {
   "display_name": "Python 3",
   "language": "python",
   "name": "python3"
  },
  "language_info": {
   "codemirror_mode": {
    "name": "ipython",
    "version": 3
   },
   "file_extension": ".py",
   "mimetype": "text/x-python",
   "name": "python",
   "nbconvert_exporter": "python",
   "pygments_lexer": "ipython3",
   "version": "3.7.6"
  }
 },
 "nbformat": 4,
 "nbformat_minor": 4
}
